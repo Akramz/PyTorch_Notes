{
 "cells": [
  {
   "cell_type": "markdown",
   "metadata": {},
   "source": [
    "# Advanced CNNs"
   ]
  },
  {
   "cell_type": "code",
   "execution_count": 22,
   "metadata": {},
   "outputs": [],
   "source": [
    "# imports.\n",
    "import ipdb\n",
    "import numpy as np\n",
    "import torch\n",
    "from torch import nn\n",
    "from torch.nn import functional as F"
   ]
  },
  {
   "cell_type": "code",
   "execution_count": 23,
   "metadata": {},
   "outputs": [],
   "source": [
    "# imports.\n",
    "import numpy as np\n",
    "import torch\n",
    "import torchvision\n",
    "from torchvision import transforms\n",
    "from torch.autograd import Variable\n",
    "from torch.utils.data import DataLoader"
   ]
  },
  {
   "cell_type": "markdown",
   "metadata": {},
   "source": [
    "### DataLoader"
   ]
  },
  {
   "cell_type": "code",
   "execution_count": 24,
   "metadata": {},
   "outputs": [],
   "source": [
    "# first we download the MNIST Dataset.\n",
    "mnist_train = torchvision.datasets.MNIST(root='./data', \n",
    "                                         train=True, \n",
    "                                         download=True, \n",
    "                                         transform=transforms.Compose([transforms.ToTensor(), transforms.Normalize((.1307,), (.3081,))]))\n",
    "mnist_test  = torchvision.datasets.MNIST(root='./data', \n",
    "                                         train=False, \n",
    "                                         transform=transforms.Compose([transforms.ToTensor(), transforms.Normalize((.1307,), (.3081,))]))"
   ]
  },
  {
   "cell_type": "code",
   "execution_count": 25,
   "metadata": {},
   "outputs": [],
   "source": [
    "# then we load it.\n",
    "train_loader = DataLoader(dataset=mnist_train, batch_size=128, shuffle=True)\n",
    "test_loader  = DataLoader(dataset=mnist_test, batch_size=128, shuffle=False)"
   ]
  },
  {
   "cell_type": "markdown",
   "metadata": {},
   "source": [
    "A big question mark is what sizes of filters should we use, (1,1), (2,2), (3,3) ?"
   ]
  },
  {
   "cell_type": "markdown",
   "metadata": {},
   "source": [
    "The idea of Inception modules is simple: We're going to try all possible filters. And we're going to concatenate their activations all together."
   ]
  },
  {
   "cell_type": "markdown",
   "metadata": {},
   "source": [
    "`1x1` convolutions serve as the dimenstionality reducers (depth reducers to be specific) that limit the number of expensive `NxN` convolutions that follow. "
   ]
  },
  {
   "cell_type": "markdown",
   "metadata": {},
   "source": [
    "So Let's try to implement this Inception Module:\n",
    "\n",
    "<img src=\"InceptionModule.png\" />"
   ]
  },
  {
   "cell_type": "code",
   "execution_count": 34,
   "metadata": {},
   "outputs": [],
   "source": [
    "class BasicConv2d(nn.Module):\n",
    "    '''\n",
    "    This is the Basic Convolution Layer with\n",
    "    Batch Normalization and the ReLu activation Function.\n",
    "    '''\n",
    "    def __init__(self, in_channels, out_channels, **kwargs):\n",
    "        super(BasicConv2d, self).__init__()\n",
    "        self.conv = nn.Conv2d(in_channels, out_channels, bias=False, **kwargs)\n",
    "        self.bn = nn.BatchNorm2d(num_features=out_channels, eps=0.001)\n",
    "    \n",
    "    def forward(self, x):\n",
    "        x = self.conv(x)\n",
    "        x = self.bn(x)\n",
    "        \n",
    "        return F.relu(x, inplace=True)"
   ]
  },
  {
   "cell_type": "code",
   "execution_count": 35,
   "metadata": {},
   "outputs": [],
   "source": [
    "class InceptionA_v2(nn.Module):\n",
    "    def __init__(self, in_channels, pool_features):\n",
    "        super(InceptionA_v2, self).__init__()\n",
    "        self.branch1x1 = BasicConv2d(in_channels, 16, kernel_size=1)\n",
    "        \n",
    "        self.branch5x5_1 = BasicConv2d(in_channels, 16, kernel_size=1)\n",
    "        self.branch5x5_2 = BasicConv2d(16, 24, kernel_size=5, padding=2)\n",
    "        \n",
    "        self.branch3x3dbl_1 = BasicConv2d(in_channels, 16, kernel_size=1)\n",
    "        self.branch3x3dbl_2 = BasicConv2d(16, 24, kernel_size=3, padding=1)\n",
    "        self.branch3x3dbl_3 = BasicConv2d(24, 24, kernel_size=3, padding=1)\n",
    "        \n",
    "        self.branch_pool = BasicConv2d(in_channels, pool_features, kernel_size=1)\n",
    "    \n",
    "    def forward(self, x):\n",
    "        \n",
    "        # debugging starts here.\n",
    "        #ipdb.set_trace()\n",
    "        \n",
    "        branch1x1 = self.branch1x1(x)\n",
    "        \n",
    "        branch5x5 = self.branch5x5_1(x)\n",
    "        branch5x5 = self.branch5x5_2(branch5x5)\n",
    "        \n",
    "        branch3x3dbl = self.branch3x3dbl_1(x)\n",
    "        branch3x3dbl = self.branch3x3dbl_2(branch3x3dbl)\n",
    "        branch3x3dbl = self.branch3x3dbl_3(branch3x3dbl)\n",
    "        \n",
    "        branch_pool = F.avg_pool2d(x, kernel_size=3, stride=1, padding=1)\n",
    "        branch_pool = self.branch_pool(branch_pool)\n",
    "        \n",
    "        outputs = [branch1x1, branch5x5, branch3x3dbl, branch_pool]\n",
    "        return torch.cat(outputs, 1)"
   ]
  },
  {
   "cell_type": "markdown",
   "metadata": {},
   "source": [
    "Even though the graph seems somewhat complicated, if we implement it branch by branch it will be very simple, easy, and intuitive (using PyTorch)."
   ]
  },
  {
   "cell_type": "markdown",
   "metadata": {},
   "source": [
    "You can just use the InceptionA Graph in other Graphs as you like, they will act as an I/O pipe that you can think about as an ordinary layer, Let's do it:"
   ]
  },
  {
   "cell_type": "code",
   "execution_count": 36,
   "metadata": {},
   "outputs": [],
   "source": [
    "class Net(nn.Module):\n",
    "    def __init__(self):\n",
    "        super(Net, self).__init__()\n",
    "        \n",
    "        self.conv1 = nn.Conv2d(in_channels=1, out_channels=10, kernel_size=5)\n",
    "        self.conv2 = nn.Conv2d(in_channels=88, out_channels=20, kernel_size=5)\n",
    "        \n",
    "        self.incept1 = InceptionA_v2(in_channels=10, pool_features=24)\n",
    "        self.incept2 = InceptionA_v2(in_channels=20, pool_features=24)\n",
    "        \n",
    "        self.mp = nn.MaxPool2d(kernel_size=2)\n",
    "        self.fc = nn.Linear(in_features=1408, out_features=10)\n",
    "    \n",
    "    def forward(self, x):\n",
    "        in_size = x.size(0)\n",
    "        \n",
    "        # debugging starts here.\n",
    "        #ipdb.set_trace()\n",
    "        \n",
    "        # Convolution Layer 1 + MaxPooling + ReLu + Inception 1\n",
    "        x = F.relu(self.mp(self.conv1(x)))\n",
    "        x = self.incept1(x)\n",
    "        \n",
    "        # Convolution Layer 2 + MaxPooling + ReLu + Inception 2\n",
    "        x = F.relu(self.mp(self.conv2(x)))\n",
    "        x = self.incept2(x)\n",
    "        \n",
    "        # flatten the tensor.\n",
    "        x = x.view(in_size, -1)\n",
    "        \n",
    "        # Linear Layer for Classification.\n",
    "        x = self.fc(x)\n",
    "        \n",
    "        # We output Probabilities over the 10 Labels.\n",
    "        return F.log_softmax(x)"
   ]
  },
  {
   "cell_type": "code",
   "execution_count": 37,
   "metadata": {},
   "outputs": [],
   "source": [
    "model = Net()"
   ]
  },
  {
   "cell_type": "markdown",
   "metadata": {},
   "source": [
    "### Loss & Optimizer Definition"
   ]
  },
  {
   "cell_type": "code",
   "execution_count": 38,
   "metadata": {},
   "outputs": [],
   "source": [
    "criterion = torch.nn.CrossEntropyLoss()"
   ]
  },
  {
   "cell_type": "code",
   "execution_count": 39,
   "metadata": {},
   "outputs": [],
   "source": [
    "optimizer = torch.optim.SGD(params=model.parameters(), lr=0.01, momentum=0.5)"
   ]
  },
  {
   "cell_type": "markdown",
   "metadata": {},
   "source": [
    "### Training"
   ]
  },
  {
   "cell_type": "code",
   "execution_count": 40,
   "metadata": {},
   "outputs": [],
   "source": [
    "def train(epochs):\n",
    "    # set the model in training mode.\n",
    "    model.train()\n",
    "    \n",
    "    for epoch in range(epochs):\n",
    "        # let's loop over the train_loader batches.\n",
    "        for batch_idx, (data, target) in enumerate(train_loader):\n",
    "            data, target = Variable(data), Variable(target)\n",
    "            optimizer.zero_grad()\n",
    "            \n",
    "            # debugging starts here.\n",
    "            #ipdb.set_trace()\n",
    "            \n",
    "            output = model(data)\n",
    "            loss = criterion(output, target)\n",
    "            loss.backward()\n",
    "            optimizer.step()\n",
    "\n",
    "            if batch_idx % 10 == 0:\n",
    "                print('Train Epoch: {} [{}/{} ({:.0f}%)]\\tLoss: {:.6f}'.format(epoch, \n",
    "                                                                               batch_idx * len(data), \n",
    "                                                                               len(train_loader.dataset), \n",
    "                                                                               100. * batch_idx / len(train_loader), \n",
    "                                                                               loss.data[0]))"
   ]
  },
  {
   "cell_type": "code",
   "execution_count": 41,
   "metadata": {},
   "outputs": [
    {
     "name": "stderr",
     "output_type": "stream",
     "text": [
      "/Users/mohamedakramzaytar/.envs/kaggle/lib/python3.6/site-packages/ipykernel_launcher.py:35: UserWarning: Implicit dimension choice for log_softmax has been deprecated. Change the call to include dim=X as an argument.\n"
     ]
    },
    {
     "name": "stdout",
     "output_type": "stream",
     "text": [
      "Train Epoch: 0 [0/60000 (0%)]\tLoss: 2.324888\n",
      "Train Epoch: 0 [1280/60000 (2%)]\tLoss: 1.722791\n",
      "Train Epoch: 0 [2560/60000 (4%)]\tLoss: 1.366435\n",
      "Train Epoch: 0 [3840/60000 (6%)]\tLoss: 0.988913\n",
      "Train Epoch: 0 [5120/60000 (9%)]\tLoss: 0.713379\n",
      "Train Epoch: 0 [6400/60000 (11%)]\tLoss: 0.472370\n",
      "Train Epoch: 0 [7680/60000 (13%)]\tLoss: 0.473177\n",
      "Train Epoch: 0 [8960/60000 (15%)]\tLoss: 0.430946\n",
      "Train Epoch: 0 [10240/60000 (17%)]\tLoss: 0.422388\n",
      "Train Epoch: 0 [11520/60000 (19%)]\tLoss: 0.336672\n",
      "Train Epoch: 0 [12800/60000 (21%)]\tLoss: 0.247607\n",
      "Train Epoch: 0 [14080/60000 (23%)]\tLoss: 0.263477\n",
      "Train Epoch: 0 [15360/60000 (26%)]\tLoss: 0.241762\n",
      "Train Epoch: 0 [16640/60000 (28%)]\tLoss: 0.188883\n",
      "Train Epoch: 0 [17920/60000 (30%)]\tLoss: 0.216690\n",
      "Train Epoch: 0 [19200/60000 (32%)]\tLoss: 0.185742\n",
      "Train Epoch: 0 [20480/60000 (34%)]\tLoss: 0.166887\n",
      "Train Epoch: 0 [21760/60000 (36%)]\tLoss: 0.124317\n",
      "Train Epoch: 0 [23040/60000 (38%)]\tLoss: 0.229803\n",
      "Train Epoch: 0 [24320/60000 (41%)]\tLoss: 0.179941\n",
      "Train Epoch: 0 [25600/60000 (43%)]\tLoss: 0.121974\n",
      "Train Epoch: 0 [26880/60000 (45%)]\tLoss: 0.189412\n",
      "Train Epoch: 0 [28160/60000 (47%)]\tLoss: 0.150590\n",
      "Train Epoch: 0 [29440/60000 (49%)]\tLoss: 0.102380\n",
      "Train Epoch: 0 [30720/60000 (51%)]\tLoss: 0.129492\n",
      "Train Epoch: 0 [32000/60000 (53%)]\tLoss: 0.156446\n",
      "Train Epoch: 0 [33280/60000 (55%)]\tLoss: 0.130159\n",
      "Train Epoch: 0 [34560/60000 (58%)]\tLoss: 0.073945\n",
      "Train Epoch: 0 [35840/60000 (60%)]\tLoss: 0.188821\n",
      "Train Epoch: 0 [37120/60000 (62%)]\tLoss: 0.129428\n",
      "Train Epoch: 0 [38400/60000 (64%)]\tLoss: 0.084658\n",
      "Train Epoch: 0 [39680/60000 (66%)]\tLoss: 0.124245\n",
      "Train Epoch: 0 [40960/60000 (68%)]\tLoss: 0.100524\n",
      "Train Epoch: 0 [42240/60000 (70%)]\tLoss: 0.078215\n",
      "Train Epoch: 0 [43520/60000 (72%)]\tLoss: 0.092183\n",
      "Train Epoch: 0 [44800/60000 (75%)]\tLoss: 0.156871\n",
      "Train Epoch: 0 [46080/60000 (77%)]\tLoss: 0.081786\n",
      "Train Epoch: 0 [47360/60000 (79%)]\tLoss: 0.107631\n",
      "Train Epoch: 0 [48640/60000 (81%)]\tLoss: 0.107626\n",
      "Train Epoch: 0 [49920/60000 (83%)]\tLoss: 0.039488\n",
      "Train Epoch: 0 [51200/60000 (85%)]\tLoss: 0.082800\n",
      "Train Epoch: 0 [52480/60000 (87%)]\tLoss: 0.085689\n",
      "Train Epoch: 0 [53760/60000 (90%)]\tLoss: 0.066299\n",
      "Train Epoch: 0 [55040/60000 (92%)]\tLoss: 0.047030\n",
      "Train Epoch: 0 [56320/60000 (94%)]\tLoss: 0.071848\n",
      "Train Epoch: 0 [57600/60000 (96%)]\tLoss: 0.091989\n",
      "Train Epoch: 0 [58880/60000 (98%)]\tLoss: 0.111926\n"
     ]
    }
   ],
   "source": [
    "train(1)"
   ]
  },
  {
   "cell_type": "code",
   "execution_count": 42,
   "metadata": {},
   "outputs": [],
   "source": [
    "def validate():\n",
    "    \n",
    "    # sets the model in evaluation mode.\n",
    "    model.eval()\n",
    "    \n",
    "    test_loss = 0\n",
    "    correct = 0\n",
    "    \n",
    "    for data, target in test_loader:\n",
    "        data, target = Variable(data, volatile=True), Variable(target)\n",
    "        output = model(data)\n",
    "        \n",
    "        # sum up batch loss.\n",
    "        test_loss += criterion(output, target).data[0]\n",
    "        # get the index of the max log probability.\n",
    "        pred = torch.max(output.data, 1)[1]\n",
    "        correct += pred.eq(target.data.view_as(pred)).cpu().sum()\n",
    "    \n",
    "    test_loss /= len(test_loader.dataset)\n",
    "    print('\\nValidation set Loss: {:.4f}, accuracy: {}/{} ({:.0f}%)\\n'.format(test_loss, \n",
    "                                                                              correct, \n",
    "                                                                              len(test_loader.dataset), \n",
    "                                                                              100. * correct / len(test_loader.dataset)))"
   ]
  },
  {
   "cell_type": "code",
   "execution_count": 43,
   "metadata": {},
   "outputs": [
    {
     "name": "stderr",
     "output_type": "stream",
     "text": [
      "/Users/mohamedakramzaytar/.envs/kaggle/lib/python3.6/site-packages/ipykernel_launcher.py:35: UserWarning: Implicit dimension choice for log_softmax has been deprecated. Change the call to include dim=X as an argument.\n"
     ]
    },
    {
     "name": "stdout",
     "output_type": "stream",
     "text": [
      "\n",
      "Validation set Loss: 0.0007, accuracy: 9791/10000 (98%)\n",
      "\n"
     ]
    }
   ],
   "source": [
    "validate()"
   ]
  },
  {
   "cell_type": "markdown",
   "metadata": {},
   "source": [
    "Improved accuracy to **98%** using a simple inception model."
   ]
  },
  {
   "cell_type": "markdown",
   "metadata": {},
   "source": [
    "# Exercice \n",
    "Implement the Full Inception v3/v4\n",
    "<img src=\"Inception_V3V4.png\" />"
   ]
  },
  {
   "cell_type": "markdown",
   "metadata": {},
   "source": [
    "### Can we just keep going deeper, Stacking More layers ?\n",
    "\n",
    "<img src=\"NotSoGood.png\" />\n",
    "<img src=\"ComparingPerformance.png\" />\n",
    "\n",
    "* 56 layer net has higher training error and test error than 20-layer net.\n",
    "* \"Overly deep\" plain nets have higher training error.\n",
    "* A general phenomenon, observed in many datasets.\n",
    "\n",
    "## Problems with stacking layers\n",
    "\n",
    "* the vanishing gradients problem.\n",
    "* Degradation problem: with increased network depth accuracy gets saturated and then rapidly degrades."
   ]
  },
  {
   "cell_type": "markdown",
   "metadata": {},
   "source": [
    "## A Proposed Solution\n",
    "By using Residual Networks, you keep the gradient alive by injecting the input in later layers:\n",
    "\n",
    "<img src=\"VanishingGradientsSolution.png\" />"
   ]
  },
  {
   "cell_type": "markdown",
   "metadata": {},
   "source": [
    "### How to Design a Neural Network ?\n",
    "\n",
    "<img src=\"NN_design.png\" />"
   ]
  },
  {
   "cell_type": "markdown",
   "metadata": {},
   "source": [
    "### Exercice: Implement DenseNet\n",
    "\n",
    "<img src=\"DenseNet.png\" />"
   ]
  }
 ],
 "metadata": {
  "kernelspec": {
   "display_name": "Python 3",
   "language": "python",
   "name": "python3"
  },
  "language_info": {
   "codemirror_mode": {
    "name": "ipython",
    "version": 3
   },
   "file_extension": ".py",
   "mimetype": "text/x-python",
   "name": "python",
   "nbconvert_exporter": "python",
   "pygments_lexer": "ipython3",
   "version": "3.6.5"
  }
 },
 "nbformat": 4,
 "nbformat_minor": 2
}
