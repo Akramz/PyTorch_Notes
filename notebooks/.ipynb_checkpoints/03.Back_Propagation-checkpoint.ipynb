{
 "cells": [
  {
   "cell_type": "markdown",
   "metadata": {},
   "source": [
    "# Back-Propagation"
   ]
  },
  {
   "cell_type": "markdown",
   "metadata": {},
   "source": [
    "<img src=\"SimpleModel.png\" />\n",
    "\n",
    "Steps to produce a model:\n",
    "\n",
    "1. Get `X` and `y`.\n",
    "2. Define the Model you're going to use, example: $\\hat{y}_w=w*x$.\n",
    "3. Define the Loss function, example: $J(w)=(\\hat{y}_w-y)^2$\n",
    "4. Calculate the Gradient of the Loss function, ${\\partial{J} \\over \\partial{w}}(w)$\n",
    "4. Start with a random weight $w_0$ and choose a learning rate $\\alpha$ and a Loss stop point $\\epsilon$.\n",
    "5. Calculate the loss and if $J(w_i) < \\epsilon$ stop, if not, continue.\n",
    "6. Update the Weight using: $w_{i+1} \\leftarrow w_i - \\alpha {\\partial{J} \\over \\partial{w}}(w_i)$ and go back to 5.\n"
   ]
  },
  {
   "cell_type": "markdown",
   "metadata": {},
   "source": [
    "We were able to calculate hte gradient of the loss fairly easily, but how about complicated models with millions of weights:\n",
    "\n",
    "<img src=\"ComplicatedGradient.png\" />"
   ]
  },
  {
   "cell_type": "markdown",
   "metadata": {},
   "source": [
    "A better way to automatically calculate the gradient is by using the **chain rule** and a **computational graph**:\n",
    "<img src=\"Graph.png\" />"
   ]
  },
  {
   "cell_type": "markdown",
   "metadata": {},
   "source": [
    "## The Chain Rule\n",
    "Let's suppose we have two function $f=f(x)$ and $g=g(f)$, we can get the gradient of $g$ by using the chain rule as follows:\n",
    "\n",
    "$${dg \\over dx}={dg \\over df}{df \\over dx}$$\n",
    "\n",
    "When you think about it, you can ofcoures compute the gradient directly since $x$ will be eventually passed to the final expression of $g$, but in deep learning, it's pretty complicated, that's why we prefer calculating gradients going backwards in the graph.\n",
    "\n",
    "At the end of the connected functions, there is the loss, our goal is to calculate $\\partial{J} \\over \\partial{x}$, we simply cannot compute everything together, what we can do is compute each gradient then combine them, this is called back-propagation.\n",
    "\n",
    "An Example with real values: \n",
    "* Forward pass in Green.\n",
    "* Backward Propagation in Red.\n",
    "\n",
    "<img src=\"Graph_Flow.png\" />"
   ]
  },
  {
   "cell_type": "markdown",
   "metadata": {},
   "source": [
    "Let's apply this idea to our model:\n",
    "$$\\hat{y}=w*x$$\n",
    "\n",
    "This model is equivalent to the following graph:\n",
    "\n",
    "And we chose a common loss:\n",
    "$$J(w)=(\\hat{y}-y)^{2}$$\n",
    "\n",
    "So we have the following Loss Graph:\n",
    "\n",
    "<img src=\"linearLossGraph.png\" />"
   ]
  },
  {
   "cell_type": "markdown",
   "metadata": {},
   "source": [
    "A practical example of our linear Model:\n",
    "\n",
    "<img src=\"BackpropagationExample.png\" />"
   ]
  },
  {
   "cell_type": "markdown",
   "metadata": {},
   "source": [
    "# PyTorch"
   ]
  },
  {
   "cell_type": "markdown",
   "metadata": {},
   "source": [
    "## Back-Propagation\n",
    "A good thing about pytorch is the fact that you don't need to program the propagations by urself, PyTorch got your back.\n",
    "\n",
    "But your need to use their variables and not numpy arrays to compute the gradients, let's do it:"
   ]
  },
  {
   "cell_type": "code",
   "execution_count": 70,
   "metadata": {},
   "outputs": [],
   "source": [
    "import numpy as np\n",
    "import torch\n",
    "import matplotlib.pyplot as plt"
   ]
  },
  {
   "cell_type": "code",
   "execution_count": 71,
   "metadata": {},
   "outputs": [],
   "source": [
    "from torch.autograd import Variable"
   ]
  },
  {
   "cell_type": "code",
   "execution_count": 78,
   "metadata": {},
   "outputs": [],
   "source": [
    "def forward(x):\n",
    "    return x * w"
   ]
  },
  {
   "cell_type": "code",
   "execution_count": 79,
   "metadata": {},
   "outputs": [],
   "source": [
    "def loss(x, y):\n",
    "    '''\n",
    "    Calculates Loss: MSE.\n",
    "    '''\n",
    "    y_hat = forward(x)\n",
    "    return (y_hat - y) * (y_hat - y)"
   ]
  },
  {
   "cell_type": "code",
   "execution_count": 168,
   "metadata": {},
   "outputs": [],
   "source": [
    "# Let's initialize some data.\n",
    "X = [1., 2., 3., 4., 5., 6., 7., 8., 9., 10.]\n",
    "y = [2., 4., 6., 8., 10., 12., 14., 16., 18., 20.]"
   ]
  },
  {
   "cell_type": "markdown",
   "metadata": {},
   "source": [
    "we need to track the operations on the weights and calculate the gradient of the loss with respect to `w`. \n",
    "\n",
    "So Let's initialize it and wrap it inside pyTorch Variable:"
   ]
  },
  {
   "cell_type": "code",
   "execution_count": 133,
   "metadata": {},
   "outputs": [],
   "source": [
    "w = Variable(torch.Tensor([15]), requires_grad=True)\n",
    "alpha = 0.0005\n",
    "losses = []\n",
    "preds = []\n",
    "g_losses = []\n",
    "ws = [float(w)]\n",
    "\n",
    "while True:\n",
    "    \n",
    "    # we predict the point (for history).\n",
    "    preds.append(float(forward(X[0])))\n",
    "    \n",
    "    # we calculate the loss.\n",
    "    l = loss(X[0], y[0])\n",
    "    \n",
    "    # we break if we have a sufficiently small loss.\n",
    "    if float(l) < 0.01: break\n",
    "    \n",
    "    # compute the current gradient loss of w.\n",
    "    l.backward()\n",
    "    losses.append(float(l))\n",
    "    \n",
    "    # PyTorch already calculated the gradient of the loss, we save it.\n",
    "    g_losses.append(w.grad.data[0])\n",
    "    \n",
    "    # and we update the weight.\n",
    "    w.data = w.data - (alpha * w.grad.data)\n",
    "    ws.append(float(w))"
   ]
  },
  {
   "cell_type": "markdown",
   "metadata": {},
   "source": [
    "We notice that according to the value of the learning rate $\\alpha$ and the stop loss $\\epsilon$, we can make the training oscillate and won't converge. "
   ]
  },
  {
   "cell_type": "markdown",
   "metadata": {},
   "source": [
    "So the training happens **point by point** and not sample by sample, the loss function and the forwards function are designed on a point level, after this we loop over the points and update the weight, when we finish a single loop over all of the points, we finish a single epoch, than we can start a new epoch by looping over all of the points a second time.\n",
    "\n",
    "# Gradient Descent Applied to Linear Regression\n",
    "\n",
    "**Using Back-Propagation:**\n",
    "\n",
    "The Only weird thing about his approach is the fact that gradient are calculated on the point level, not the whole set level, we feed one point and we calculate the loss of the prediction of that point and the true target point, and we update the weight accordingly, we don't calculate the loss on a batch or on the whole dataset of points, keep this in mind."
   ]
  },
  {
   "cell_type": "code",
   "execution_count": 206,
   "metadata": {},
   "outputs": [],
   "source": [
    "w = Variable(torch.Tensor([15]), requires_grad=True)\n",
    "alpha = 0.0005\n",
    "losses = []\n",
    "preds = []\n",
    "g_losses = []\n",
    "ws = [float(w)]"
   ]
  },
  {
   "cell_type": "markdown",
   "metadata": {},
   "source": [
    "We introduce the notion of an epoch, and exactly how training happens:"
   ]
  },
  {
   "cell_type": "code",
   "execution_count": 207,
   "metadata": {},
   "outputs": [],
   "source": [
    "epochs = 100"
   ]
  },
  {
   "cell_type": "code",
   "execution_count": 208,
   "metadata": {},
   "outputs": [
    {
     "name": "stdout",
     "output_type": "stream",
     "text": [
      "progress:  0 9405.4794921875 10.72836685180664\n",
      "progress:  10 3.259665012359619 2.1624908447265625\n",
      "progress:  20 0.0011297193123027682 2.0030250549316406\n",
      "progress:  30 3.937784640584141e-07 2.000056505203247\n",
      "progress:  40 1.3096723705530167e-10 2.0000011920928955\n",
      "progress:  50 1.3096723705530167e-10 2.0000011920928955\n",
      "progress:  60 1.3096723705530167e-10 2.0000011920928955\n",
      "progress:  70 1.3096723705530167e-10 2.0000011920928955\n",
      "progress:  80 1.3096723705530167e-10 2.0000011920928955\n",
      "progress:  90 1.3096723705530167e-10 2.0000011920928955\n"
     ]
    }
   ],
   "source": [
    "for epoch in range(epochs):\n",
    "    \n",
    "    for X_i, y_i in zip(X, y):\n",
    "\n",
    "        # Forward Propagation in the Loss Graph, computing the Loss.\n",
    "        l = loss(X_i, y_i)\n",
    "\n",
    "        # we break if we have a sufficiently small loss.\n",
    "        #if float(l) < 0.01: break\n",
    "\n",
    "        # Backward Propagation in the Loss Graph, computing the current gradient loss of w.\n",
    "        l.backward()\n",
    "\n",
    "        # PyTorch already calculated the gradient of the loss, we save it.\n",
    "        g_losses.append(w.grad.data[0])\n",
    "\n",
    "        # and we update the weight.\n",
    "        w.data = w.data - (alpha * w.grad.data)\n",
    "        \n",
    "        # manually zero the gradients after updating the weight.\n",
    "        w.grad.data.zero_()\n",
    "    \n",
    "    # at the end of each epoch, we append the current weight to a list.\n",
    "    ws.append(float(w))\n",
    "    # and the losses:\n",
    "    losses.append(float(l))\n",
    "    \n",
    "    # print progress\n",
    "    if epoch % 10 == 0: print(\"progress: \", epoch, l.data[0], float(w))"
   ]
  },
  {
   "cell_type": "markdown",
   "metadata": {},
   "source": [
    "Let's visualize this stuff:"
   ]
  },
  {
   "cell_type": "markdown",
   "metadata": {},
   "source": [
    "We start with epochs to the changing values of the weight:"
   ]
  },
  {
   "cell_type": "code",
   "execution_count": 209,
   "metadata": {},
   "outputs": [
    {
     "data": {
      "image/png": "[encoded data removed]",
      "text/plain": [
       "<Figure size 432x288 with 1 Axes>"
      ]
     },
     "metadata": {},
     "output_type": "display_data"
    }
   ],
   "source": [
    "plt.clf()\n",
    "\n",
    "plt.plot(list(range(1, epochs + 1)), ws[1:])\n",
    "\n",
    "plt.xlabel(\"Epochs\")\n",
    "plt.ylabel(\"Weight\")\n",
    "plt.title(\"Weight Update during Training\")\n",
    "\n",
    "plt.show()"
   ]
  },
  {
   "cell_type": "markdown",
   "metadata": {},
   "source": [
    "Let's visualise the Loss:"
   ]
  },
  {
   "cell_type": "code",
   "execution_count": 210,
   "metadata": {},
   "outputs": [
    {
     "data": {
      "image/png": "[encoded data removed]",
      "text/plain": [
       "<Figure size 432x288 with 1 Axes>"
      ]
     },
     "metadata": {},
     "output_type": "display_data"
    }
   ],
   "source": [
    "plt.clf()\n",
    "\n",
    "plt.plot(list(range(1, epochs + 1)), losses)\n",
    "\n",
    "plt.xlabel(\"Epochs\")\n",
    "plt.ylabel(\"Loss\")\n",
    "plt.title(\"Loss during Training\")\n",
    "\n",
    "plt.show()"
   ]
  },
  {
   "cell_type": "markdown",
   "metadata": {},
   "source": [
    "<img src=\"PytorchPropagation.png\" />"
   ]
  },
  {
   "cell_type": "markdown",
   "metadata": {},
   "source": [
    "# Exercices:\n",
    "* **Implement Backpropagation using Numpy**."
   ]
  },
  {
   "cell_type": "code",
   "execution_count": null,
   "metadata": {},
   "outputs": [],
   "source": []
  },
  {
   "cell_type": "markdown",
   "metadata": {},
   "source": [
    "<img src=\"Exo_3_2.png\">"
   ]
  },
  {
   "cell_type": "markdown",
   "metadata": {},
   "source": [
    "**Compute it manually, and with Pytorch**."
   ]
  },
  {
   "cell_type": "code",
   "execution_count": null,
   "metadata": {},
   "outputs": [],
   "source": []
  },
  {
   "cell_type": "code",
   "execution_count": null,
   "metadata": {},
   "outputs": [],
   "source": []
  }
 ],
 "metadata": {
  "kernelspec": {
   "display_name": "Python 3",
   "language": "python",
   "name": "python3"
  },
  "language_info": {
   "codemirror_mode": {
    "name": "ipython",
    "version": 3
   },
   "file_extension": ".py",
   "mimetype": "text/x-python",
   "name": "python",
   "nbconvert_exporter": "python",
   "pygments_lexer": "ipython3",
   "version": "3.6.5"
  }
 },
 "nbformat": 4,
 "nbformat_minor": 2
}
