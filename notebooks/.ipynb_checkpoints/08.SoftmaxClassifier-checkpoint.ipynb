{
 "cells": [
  {
   "cell_type": "markdown",
   "metadata": {},
   "source": [
    "# Softmax Classifier"
   ]
  },
  {
   "cell_type": "code",
   "execution_count": 15,
   "metadata": {},
   "outputs": [],
   "source": [
    "import numpy as np\n",
    "import torch\n",
    "import torchvision\n",
    "from torchvision import transforms\n",
    "from torch.autograd import Variable\n",
    "from torch.utils.data import DataLoader"
   ]
  },
  {
   "cell_type": "markdown",
   "metadata": {},
   "source": [
    "The Cross Entropy function can compute the loss between two probability distribution, in the case of MNIST, 10-element wide probabilities. between the predicted distributions and the transformed label to one-hot vectors.\n",
    "\n",
    "The formula of Cross Entropy is as follows:\n",
    "\n",
    "$$D(\\hat{Y}, Y) = -Y * log(\\hat{Y})$$"
   ]
  },
  {
   "cell_type": "markdown",
   "metadata": {},
   "source": [
    "### Cross-Entropy: Numpy Example"
   ]
  },
  {
   "cell_type": "code",
   "execution_count": 2,
   "metadata": {},
   "outputs": [],
   "source": [
    "# the target.\n",
    "Y = np.array([1., 0., 0.])"
   ]
  },
  {
   "cell_type": "code",
   "execution_count": 3,
   "metadata": {},
   "outputs": [],
   "source": [
    "# now let's create fake preds.\n",
    "Y_pred1 = np.array([.7, .2, .1])\n",
    "Y_pred2 = np.array([.1, .3, .6])"
   ]
  },
  {
   "cell_type": "code",
   "execution_count": 4,
   "metadata": {},
   "outputs": [
    {
     "name": "stdout",
     "output_type": "stream",
     "text": [
      "Loss 1:  0.35667494393873245\n"
     ]
    }
   ],
   "source": [
    "# let's calculate the loss of the two measurements using cross-entropy.\n",
    "print('Loss 1: ', np.sum(-Y * np.log(Y_pred1)))"
   ]
  },
  {
   "cell_type": "code",
   "execution_count": 5,
   "metadata": {},
   "outputs": [
    {
     "name": "stdout",
     "output_type": "stream",
     "text": [
      "Loss 2:  2.3025850929940455\n"
     ]
    }
   ],
   "source": [
    "print('Loss 2: ', np.sum(-Y * np.log(Y_pred2)))"
   ]
  },
  {
   "cell_type": "markdown",
   "metadata": {},
   "source": [
    "### Cross-entropy: PyTorch Example"
   ]
  },
  {
   "cell_type": "code",
   "execution_count": 6,
   "metadata": {},
   "outputs": [],
   "source": [
    "loss = torch.nn.CrossEntropyLoss()"
   ]
  },
  {
   "cell_type": "code",
   "execution_count": 7,
   "metadata": {},
   "outputs": [],
   "source": [
    "# target is of size nbatch.\n",
    "# each element in target has to have 0 <= value < nClasses (0-2).\n",
    "# Input is class not one-hot.\n",
    "Y = Variable(torch.LongTensor([0]), requires_grad=False)"
   ]
  },
  {
   "cell_type": "code",
   "execution_count": 8,
   "metadata": {},
   "outputs": [],
   "source": [
    "# input is of size nBatch x nClasses = 1 x 3\n",
    "# Y_pred are logits (not softmax).\n",
    "Y_pred1 = Variable(torch.Tensor([[2., 1., .1]]))\n",
    "Y_pred2 = Variable(torch.Tensor([[.5, 2., .3]]))"
   ]
  },
  {
   "cell_type": "code",
   "execution_count": 9,
   "metadata": {},
   "outputs": [
    {
     "data": {
      "text/plain": [
       "Variable containing:\n",
       " 0.4170\n",
       "[torch.FloatTensor of size 1]"
      ]
     },
     "execution_count": 9,
     "metadata": {},
     "output_type": "execute_result"
    }
   ],
   "source": [
    "l1 = loss(Y_pred1, Y); l1"
   ]
  },
  {
   "cell_type": "code",
   "execution_count": 10,
   "metadata": {},
   "outputs": [
    {
     "data": {
      "text/plain": [
       "Variable containing:\n",
       " 1.8406\n",
       "[torch.FloatTensor of size 1]"
      ]
     },
     "execution_count": 10,
     "metadata": {},
     "output_type": "execute_result"
    }
   ],
   "source": [
    "l2 = loss(Y_pred2, Y); l2"
   ]
  },
  {
   "cell_type": "markdown",
   "metadata": {},
   "source": [
    "## MNIST\n",
    "<img src=\"MNIST.png\" />"
   ]
  },
  {
   "cell_type": "markdown",
   "metadata": {},
   "source": [
    "### DataLoader"
   ]
  },
  {
   "cell_type": "code",
   "execution_count": 45,
   "metadata": {},
   "outputs": [],
   "source": [
    "# first we download the MNIST Dataset.\n",
    "mnist_train = torchvision.datasets.MNIST(root='./data', \n",
    "                                         train=True, \n",
    "                                         download=True, \n",
    "                                         transform=transforms.Compose([transforms.ToTensor(), transforms.Normalize((.1307,), (.3081,))]))\n",
    "mnist_test  = torchvision.datasets.MNIST(root='./data', \n",
    "                                         train=False, \n",
    "                                         transform=transforms.Compose([transforms.ToTensor(), transforms.Normalize((.1307,), (.3081,))]))"
   ]
  },
  {
   "cell_type": "code",
   "execution_count": 46,
   "metadata": {},
   "outputs": [],
   "source": [
    "# then we load it.\n",
    "train_loader = DataLoader(dataset=mnist_train, batch_size=128, shuffle=True)\n",
    "test_loader  = DataLoader(dataset=mnist_test, batch_size=128, shuffle=False)"
   ]
  },
  {
   "cell_type": "markdown",
   "metadata": {},
   "source": [
    "### The Model\n",
    "\n",
    "We'll implement this Neural Network Architecture:\n",
    "\n",
    "<img src=\"MNIST_NN.png\" />"
   ]
  },
  {
   "cell_type": "code",
   "execution_count": 47,
   "metadata": {},
   "outputs": [],
   "source": [
    "class MNISTClassifier(torch.nn.Module):\n",
    "    '''\n",
    "    Classifies the MNIST handwritten digits into their labels.\n",
    "    Input: 28*28 = 784 Pixel values.\n",
    "    Output: 10 Probabilities corresponding to the ten labels (0,1,2,3,4,5,6,7,8,9).\n",
    "    '''\n",
    "    \n",
    "    def __init__(self):\n",
    "        '''\n",
    "        We construct the architecture of the neural network.\n",
    "        '''\n",
    "        super(MNISTClassifier, self).__init__()\n",
    "        \n",
    "        # we create the hidden layers.\n",
    "        self.l1 = torch.nn.Linear(in_features=784, out_features=520)\n",
    "        self.l2 = torch.nn.Linear(in_features=520, out_features=320)\n",
    "        self.l3 = torch.nn.Linear(in_features=320, out_features=240)\n",
    "        self.l4 = torch.nn.Linear(in_features=240, out_features=120)\n",
    "        self.l5 = torch.nn.Linear(in_features=120, out_features=10)\n",
    "            \n",
    "        # we'll use ReLu as an activation function for all layers except the last one.\n",
    "        self.relu = torch.nn.ReLU()\n",
    "\n",
    "    def forward(self, x):\n",
    "        '''\n",
    "        The Forward process.\n",
    "        '''\n",
    "        # before anything, we need to flatten the data.\n",
    "        x = x.view(-1, 784)\n",
    "        # we start with the first one because we need x.\n",
    "        x = self.relu(self.l1(x))\n",
    "        x = self.relu(self.l2(x))\n",
    "        x = self.relu(self.l3(x))\n",
    "        x = self.relu(self.l4(x))\n",
    "        return self.l5(x)"
   ]
  },
  {
   "cell_type": "code",
   "execution_count": 48,
   "metadata": {},
   "outputs": [],
   "source": [
    "model = MNISTClassifier()"
   ]
  },
  {
   "cell_type": "code",
   "execution_count": 49,
   "metadata": {},
   "outputs": [
    {
     "data": {
      "text/plain": [
       "MNISTClassifier(\n",
       "  (l1): Linear(in_features=784, out_features=520, bias=True)\n",
       "  (l2): Linear(in_features=520, out_features=320, bias=True)\n",
       "  (l3): Linear(in_features=320, out_features=240, bias=True)\n",
       "  (l4): Linear(in_features=240, out_features=120, bias=True)\n",
       "  (l5): Linear(in_features=120, out_features=10, bias=True)\n",
       "  (relu): ReLU()\n",
       ")"
      ]
     },
     "execution_count": 49,
     "metadata": {},
     "output_type": "execute_result"
    }
   ],
   "source": [
    "# let's take a look at the model's components.\n",
    "model"
   ]
  },
  {
   "cell_type": "markdown",
   "metadata": {},
   "source": [
    "### Loss & Optimizer Definition"
   ]
  },
  {
   "cell_type": "code",
   "execution_count": 50,
   "metadata": {},
   "outputs": [],
   "source": [
    "criterion = torch.nn.CrossEntropyLoss()"
   ]
  },
  {
   "cell_type": "code",
   "execution_count": 51,
   "metadata": {},
   "outputs": [],
   "source": [
    "optimizer = torch.optim.SGD(params=model.parameters(), lr=0.01, momentum=0.5)"
   ]
  },
  {
   "cell_type": "markdown",
   "metadata": {},
   "source": [
    "### Training"
   ]
  },
  {
   "cell_type": "code",
   "execution_count": 61,
   "metadata": {},
   "outputs": [],
   "source": [
    "def train(epochs):\n",
    "    # set the model in training mode.\n",
    "    model.train()\n",
    "    \n",
    "    for epoch in range(epochs):\n",
    "        # let's loop over the train_loader batches.\n",
    "        for batch_idx, (data, target) in enumerate(train_loader):\n",
    "            data, target = Variable(data), Variable(target)\n",
    "            optimizer.zero_grad()\n",
    "            output = model(data)\n",
    "            loss = criterion(output, target)\n",
    "            loss.backward()\n",
    "            optimizer.step()\n",
    "\n",
    "            if batch_idx % 10 == 0:\n",
    "                print('Train Epoch: {} [{}/{} ({:.0f}%)]\\tLoss: {:.6f}'.format(epoch, \n",
    "                                                                               batch_idx * len(data), \n",
    "                                                                               len(train_loader.dataset), \n",
    "                                                                               100. * batch_idx / len(train_loader), \n",
    "                                                                               loss.data[0]))"
   ]
  },
  {
   "cell_type": "code",
   "execution_count": 62,
   "metadata": {},
   "outputs": [
    {
     "name": "stdout",
     "output_type": "stream",
     "text": [
      "Train Epoch: 0 [0/60000 (0%)]\tLoss: 0.605898\n",
      "Train Epoch: 0 [1280/60000 (2%)]\tLoss: 0.557758\n",
      "Train Epoch: 0 [2560/60000 (4%)]\tLoss: 0.521372\n",
      "Train Epoch: 0 [3840/60000 (6%)]\tLoss: 0.548602\n",
      "Train Epoch: 0 [5120/60000 (9%)]\tLoss: 0.382396\n",
      "Train Epoch: 0 [6400/60000 (11%)]\tLoss: 0.498633\n",
      "Train Epoch: 0 [7680/60000 (13%)]\tLoss: 0.444859\n",
      "Train Epoch: 0 [8960/60000 (15%)]\tLoss: 0.458219\n",
      "Train Epoch: 0 [10240/60000 (17%)]\tLoss: 0.440631\n",
      "Train Epoch: 0 [11520/60000 (19%)]\tLoss: 0.381271\n",
      "Train Epoch: 0 [12800/60000 (21%)]\tLoss: 0.328310\n",
      "Train Epoch: 0 [14080/60000 (23%)]\tLoss: 0.502130\n",
      "Train Epoch: 0 [15360/60000 (26%)]\tLoss: 0.377602\n",
      "Train Epoch: 0 [16640/60000 (28%)]\tLoss: 0.453017\n",
      "Train Epoch: 0 [17920/60000 (30%)]\tLoss: 0.369275\n",
      "Train Epoch: 0 [19200/60000 (32%)]\tLoss: 0.286175\n",
      "Train Epoch: 0 [20480/60000 (34%)]\tLoss: 0.549799\n",
      "Train Epoch: 0 [21760/60000 (36%)]\tLoss: 0.483850\n",
      "Train Epoch: 0 [23040/60000 (38%)]\tLoss: 0.560608\n",
      "Train Epoch: 0 [24320/60000 (41%)]\tLoss: 0.436955\n",
      "Train Epoch: 0 [25600/60000 (43%)]\tLoss: 0.311866\n",
      "Train Epoch: 0 [26880/60000 (45%)]\tLoss: 0.380300\n",
      "Train Epoch: 0 [28160/60000 (47%)]\tLoss: 0.293713\n",
      "Train Epoch: 0 [29440/60000 (49%)]\tLoss: 0.325403\n",
      "Train Epoch: 0 [30720/60000 (51%)]\tLoss: 0.471220\n",
      "Train Epoch: 0 [32000/60000 (53%)]\tLoss: 0.391882\n",
      "Train Epoch: 0 [33280/60000 (55%)]\tLoss: 0.512253\n",
      "Train Epoch: 0 [34560/60000 (58%)]\tLoss: 0.446544\n",
      "Train Epoch: 0 [35840/60000 (60%)]\tLoss: 0.388545\n",
      "Train Epoch: 0 [37120/60000 (62%)]\tLoss: 0.419579\n",
      "Train Epoch: 0 [38400/60000 (64%)]\tLoss: 0.209802\n",
      "Train Epoch: 0 [39680/60000 (66%)]\tLoss: 0.331836\n",
      "Train Epoch: 0 [40960/60000 (68%)]\tLoss: 0.399697\n",
      "Train Epoch: 0 [42240/60000 (70%)]\tLoss: 0.322182\n",
      "Train Epoch: 0 [43520/60000 (72%)]\tLoss: 0.427701\n",
      "Train Epoch: 0 [44800/60000 (75%)]\tLoss: 0.199995\n",
      "Train Epoch: 0 [46080/60000 (77%)]\tLoss: 0.343793\n",
      "Train Epoch: 0 [47360/60000 (79%)]\tLoss: 0.317059\n",
      "Train Epoch: 0 [48640/60000 (81%)]\tLoss: 0.264206\n",
      "Train Epoch: 0 [49920/60000 (83%)]\tLoss: 0.301987\n",
      "Train Epoch: 0 [51200/60000 (85%)]\tLoss: 0.416344\n",
      "Train Epoch: 0 [52480/60000 (87%)]\tLoss: 0.297362\n",
      "Train Epoch: 0 [53760/60000 (90%)]\tLoss: 0.308681\n",
      "Train Epoch: 0 [55040/60000 (92%)]\tLoss: 0.404129\n",
      "Train Epoch: 0 [56320/60000 (94%)]\tLoss: 0.407557\n",
      "Train Epoch: 0 [57600/60000 (96%)]\tLoss: 0.400432\n",
      "Train Epoch: 0 [58880/60000 (98%)]\tLoss: 0.360884\n"
     ]
    }
   ],
   "source": [
    "train(1)"
   ]
  },
  {
   "cell_type": "markdown",
   "metadata": {},
   "source": [
    "After Normalizing and Scaling the Data points, the loss function decreased quite quickly, this is an indication that your should properly scale your values."
   ]
  },
  {
   "cell_type": "markdown",
   "metadata": {},
   "source": [
    "And to validate our data, we need to calculate the accuracy over the validation dataset:"
   ]
  },
  {
   "cell_type": "code",
   "execution_count": 63,
   "metadata": {},
   "outputs": [],
   "source": [
    "def validate():\n",
    "    \n",
    "    # sets the model in evaluation mode.\n",
    "    model.eval()\n",
    "    \n",
    "    test_loss = 0\n",
    "    correct = 0\n",
    "    \n",
    "    for data, target in test_loader:\n",
    "        data, target = Variable(data, volatile=True), Variable(target)\n",
    "        output = model(data)\n",
    "        \n",
    "        # sum up batch loss.\n",
    "        test_loss += criterion(output, target).data[0]\n",
    "        # get the index of the max log probability.\n",
    "        pred = torch.max(output.data, 1)[1]\n",
    "        correct += pred.eq(target.data.view_as(pred)).cpu().sum()\n",
    "    \n",
    "    test_loss /= len(test_loader.dataset)\n",
    "    print('\\nValidation set Loss: {:.4f}, accuracy: {}/{} ({:.0f}%)\\n'.format(test_loss, \n",
    "                                                                              correct, \n",
    "                                                                              len(test_loader.dataset), \n",
    "                                                                              100. * correct / len(test_loader.dataset)))"
   ]
  },
  {
   "cell_type": "code",
   "execution_count": 64,
   "metadata": {},
   "outputs": [
    {
     "name": "stdout",
     "output_type": "stream",
     "text": [
      "\n",
      "Validation set Loss: 0.0025, accuracy: 9068/10000 (91%)\n",
      "\n"
     ]
    }
   ],
   "source": [
    "validate()"
   ]
  },
  {
   "cell_type": "markdown",
   "metadata": {},
   "source": [
    "## Exercice\n",
    "Build a softmax classifier for the [Otto Group Product](https://www.kaggle.com/c/otto-group-product-classification-challenge) and Use the DataLoader."
   ]
  },
  {
   "cell_type": "code",
   "execution_count": null,
   "metadata": {},
   "outputs": [],
   "source": []
  }
 ],
 "metadata": {
  "kernelspec": {
   "display_name": "Python 3",
   "language": "python",
   "name": "python3"
  },
  "language_info": {
   "codemirror_mode": {
    "name": "ipython",
    "version": 3
   },
   "file_extension": ".py",
   "mimetype": "text/x-python",
   "name": "python",
   "nbconvert_exporter": "python",
   "pygments_lexer": "ipython3",
   "version": "3.6.5"
  }
 },
 "nbformat": 4,
 "nbformat_minor": 2
}
