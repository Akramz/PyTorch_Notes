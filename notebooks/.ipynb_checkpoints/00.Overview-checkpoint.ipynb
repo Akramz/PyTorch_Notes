{
 "cells": [
  {
   "cell_type": "markdown",
   "metadata": {},
   "source": [
    "# Overview"
   ]
  },
  {
   "cell_type": "markdown",
   "metadata": {},
   "source": [
    "## Goals\n",
    "* Basic Understanding of Machine Learning / Deep Learning.\n",
    "* Pytorch Implementation skills.\n",
    "* Zero to all !\n",
    " * Basic Algebra and Probability.\n",
    " * Basic Python."
   ]
  },
  {
   "cell_type": "markdown",
   "metadata": {},
   "source": [
    "# What is ML ?\n",
    "## What is basic human intelligence ?\n",
    "We infer different types of outputs from different types of information we already have.\n",
    "Machine Learning works in the same way.\n",
    "\n",
    "* ML needs a lot of information (or data).\n",
    "* ML algorithms learn through training.\n",
    "\n",
    "<img src=\"imgs/fields.png\" />\n",
    "\n",
    "* AI in general is anything that has intelligence.\n",
    "\n",
    "* Rule based systems are systems that are hardcoded to do certain things, no AI involved.\n",
    "* but ML can learn the rules automatically, no need to hardcode them.\n",
    "* but you need to provide well structured Input to the ML algos."
   ]
  },
  {
   "cell_type": "markdown",
   "metadata": {},
   "source": [
    "# PyTorch\n",
    "PyTorch is a Python Package that provides two high-level features:\n",
    "* Tensor Computations (Like numpy) with strong GPU acceleration.\n",
    "* Deep Neural Networks built on a tape-based autograd system.\n",
    "\n",
    "## Why Pytorch ?\n",
    "* More Pythonic (imperative)\n",
    " * Flexible\n",
    " * Intuitive and cleaner code\n",
    " * Easy to Debug.\n",
    "* More neural Networkic\n",
    " * Write code as the network works.\n",
    " * Forward/backward."
   ]
  },
  {
   "cell_type": "code",
   "execution_count": 1,
   "metadata": {},
   "outputs": [],
   "source": [
    "import torch"
   ]
  },
  {
   "cell_type": "code",
   "execution_count": 3,
   "metadata": {},
   "outputs": [
    {
     "data": {
      "text/plain": [
       "'0.3.1'"
      ]
     },
     "execution_count": 3,
     "metadata": {},
     "output_type": "execute_result"
    }
   ],
   "source": [
    "torch.__version__"
   ]
  },
  {
   "cell_type": "markdown",
   "metadata": {},
   "source": [
    "# Topics\n",
    "* Linear, Logistic, Softmax Models\n",
    "* DNN: Deep Neural Networks\n",
    "* CNN: Convolutional Neural Networks\n",
    "* RNN: Recurrent Neural Networks\n",
    "\n",
    "* Write everything in pytorch"
   ]
  }
 ],
 "metadata": {
  "kernelspec": {
   "display_name": "Python 3",
   "language": "python",
   "name": "python3"
  },
  "language_info": {
   "codemirror_mode": {
    "name": "ipython",
    "version": 3
   },
   "file_extension": ".py",
   "mimetype": "text/x-python",
   "name": "python",
   "nbconvert_exporter": "python",
   "pygments_lexer": "ipython3",
   "version": "3.7.0"
  }
 },
 "nbformat": 4,
 "nbformat_minor": 2
}
