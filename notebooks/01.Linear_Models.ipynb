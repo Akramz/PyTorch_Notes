{
 "cells": [
  {
   "cell_type": "markdown",
   "metadata": {},
   "source": [
    "Imports:"
   ]
  },
  {
   "cell_type": "code",
   "execution_count": 15,
   "metadata": {},
   "outputs": [],
   "source": [
    "import numpy as np\n",
    "import matplotlib.pyplot as plt\n",
    "from pylab import rcParams"
   ]
  },
  {
   "cell_type": "markdown",
   "metadata": {},
   "source": [
    "# Linear Models"
   ]
  },
  {
   "cell_type": "markdown",
   "metadata": {},
   "source": [
    "An example of a supervised learning problem:\n",
    "\n",
    "<img src=\"imgs/predict_grade.png\" />"
   ]
  },
  {
   "cell_type": "markdown",
   "metadata": {},
   "source": [
    "## Model Design\n",
    "What would be the best model for the data ? Linear ?\n",
    "\n",
    "$$\\hat y = w*x + b$$\n",
    "\n",
    "Where:\n",
    "* $w$: weight.\n",
    "* $b$: bias.\n",
    "\n",
    "There are a lot of examples of linear model problems, like:\n",
    "* Predict house prices from the area.\n",
    "* Predict people weights from the heights.\n",
    "* ..\n",
    "\n",
    "### Linear Regression\n",
    "In our example we'll consider our model to be in the simpler form $\\hat y=w*x$.\n",
    "\n",
    "* The Machine starts with a random guess (random $w$), and from the random $w$ we'll fit the line by incrementaly changing the value of our $w$.\n",
    "* we need to measure which line is better to get an idea of our performance and the way to increment the weight.\n",
    "* A simple idea to measure performance is by measuring the distance between the predictions and the targets.\n",
    " * this represents the loss function.\n",
    "\n",
    "### Training Loss\n",
    "We chose the mean square error:\n",
    "$$loss = {1 \\over m} \\sum_i(\\hat{y}^{(i)} - y^{(i)})^2 = {1 \\over m} \\sum_i(w*x^{(i)} - y^{(i)})^2$$\n",
    "\n",
    "<img src=\"imgs/losses.png\" />\n",
    "\n",
    "* m is the number of training points.\n",
    "* we re-calculate the loss function each time we change $w$.\n",
    "* we need to find $w_s$ that minimizes the loss function."
   ]
  },
  {
   "cell_type": "markdown",
   "metadata": {},
   "source": [
    "### Loss Graph\n",
    "We want to find the minima of the loss graph, with respect to our weight $w$:\n",
    "\n",
    "<img src=\"imgs/lossGraph.png\" />"
   ]
  },
  {
   "cell_type": "markdown",
   "metadata": {},
   "source": [
    "## Model & Loss"
   ]
  },
  {
   "cell_type": "markdown",
   "metadata": {},
   "source": [
    "First we program the Model of our choice:\n",
    "$$\\hat{y}=x*w$$\n",
    "\n",
    "$w$ is random at first."
   ]
  },
  {
   "cell_type": "code",
   "execution_count": 61,
   "metadata": {},
   "outputs": [
    {
     "data": {
      "text/plain": [
       "0.5298933277412712"
      ]
     },
     "execution_count": 61,
     "metadata": {},
     "output_type": "execute_result"
    }
   ],
   "source": [
    "w = np.random.rand(1)[0];w"
   ]
  },
  {
   "cell_type": "code",
   "execution_count": 62,
   "metadata": {},
   "outputs": [],
   "source": [
    "def forward(x):\n",
    "    return np.multiply(w,x)"
   ]
  },
  {
   "cell_type": "markdown",
   "metadata": {},
   "source": [
    "Now we program the Loss:"
   ]
  },
  {
   "cell_type": "code",
   "execution_count": 63,
   "metadata": {},
   "outputs": [],
   "source": [
    "x = np.array([1,4,2])\n",
    "y = np.array([1,2,3])"
   ]
  },
  {
   "cell_type": "code",
   "execution_count": 64,
   "metadata": {},
   "outputs": [],
   "source": [
    "# my solution.\n",
    "def loss(x, y):\n",
    "    '''\n",
    "    Calculates MSE.\n",
    "    Actual Solution: (y_hat - y)*(y_hat - y).\n",
    "    .. Doesn't support vectors.\n",
    "    '''\n",
    "    y_hat = forward(x)\n",
    "    return sum((np.subtract(y_hat,y))**2)/len(y)"
   ]
  },
  {
   "cell_type": "code",
   "execution_count": 65,
   "metadata": {},
   "outputs": [
    {
     "data": {
      "text/plain": [
       "1.3332419607469825"
      ]
     },
     "execution_count": 65,
     "metadata": {},
     "output_type": "execute_result"
    }
   ],
   "source": [
    "loss(x, y)"
   ]
  },
  {
   "cell_type": "markdown",
   "metadata": {},
   "source": [
    "Let's calculate the loss for different weights:"
   ]
  },
  {
   "cell_type": "code",
   "execution_count": 77,
   "metadata": {},
   "outputs": [
    {
     "data": {
      "text/plain": [
       "(200,)"
      ]
     },
     "execution_count": 77,
     "metadata": {},
     "output_type": "execute_result"
    }
   ],
   "source": [
    "# weights.\n",
    "w_s = np.arange(0, 20, 0.1); w_s.shape"
   ]
  },
  {
   "cell_type": "code",
   "execution_count": 74,
   "metadata": {},
   "outputs": [],
   "source": [
    "# training data.\n",
    "X = [1, 2, 3, 4, 5]\n",
    "y = [8, 16, 24, 32, 40]"
   ]
  },
  {
   "cell_type": "code",
   "execution_count": 79,
   "metadata": {},
   "outputs": [],
   "source": [
    "losses = []\n",
    "for w in w_s:\n",
    "    losses.append(loss(X, y))"
   ]
  },
  {
   "cell_type": "markdown",
   "metadata": {},
   "source": [
    "Now after we got different losses values for different weight values, let's draw the loss function and figure out the minimum:"
   ]
  },
  {
   "cell_type": "code",
   "execution_count": 84,
   "metadata": {},
   "outputs": [
    {
     "data": {
      "image/png": "[encoded data removed]",
      "text/plain": [
       "<Figure size 432x288 with 1 Axes>"
      ]
     },
     "metadata": {},
     "output_type": "display_data"
    }
   ],
   "source": [
    "plt.clf()\n",
    "\n",
    "plt.plot(w_s, losses)\n",
    "\n",
    "plt.xlabel('Weights')\n",
    "plt.ylabel('Loss')\n",
    "plt.title('Loss Function')\n",
    "plt.show()"
   ]
  },
  {
   "cell_type": "markdown",
   "metadata": {},
   "source": [
    "---\n",
    "\n",
    "# Manual Gradient Descent"
   ]
  },
  {
   "cell_type": "markdown",
   "metadata": {},
   "source": [
    "Let's do Gradient Descent from Scratch with Root Mean Sqaured Error as a Loss function and the Gradient Descent Algorithm as the Optimizer for the parameter $w$:"
   ]
  },
  {
   "cell_type": "markdown",
   "metadata": {},
   "source": [
    "We Have the following Points:\n",
    "\n",
    "$x=\\{0.5, 1.1, 2.5, 3.1\\}$ and $y=\\{0.4, 1.5, 2.1, 3.5\\}$, Let's visualize the Points using Numpy:"
   ]
  },
  {
   "cell_type": "code",
   "execution_count": 2,
   "metadata": {},
   "outputs": [],
   "source": [
    "x = np.array([.5, 1.1, 2.5, 3.1], dtype='float32')\n",
    "y = np.array([.4, 1.5, 2.1, 3.5], dtype='float32')"
   ]
  },
  {
   "cell_type": "code",
   "execution_count": 10,
   "metadata": {},
   "outputs": [
    {
     "data": {
      "image/png": "[encoded data removed]",
      "text/plain": [
       "<Figure size 432x288 with 1 Axes>"
      ]
     },
     "metadata": {
      "needs_background": "light"
     },
     "output_type": "display_data"
    }
   ],
   "source": [
    "# Let's plot the points.\n",
    "plt.scatter(x, y, color='blue')\n",
    "plt.xlim(0)\n",
    "plt.ylim(0)\n",
    "\n",
    "plt.show()"
   ]
  },
  {
   "cell_type": "markdown",
   "metadata": {},
   "source": [
    "### Problem\n",
    "Build a Model that can learn from these samples and predict $y$ from a new given $x$."
   ]
  },
  {
   "cell_type": "markdown",
   "metadata": {},
   "source": [
    "### Model\n",
    "\n",
    "We propose the following Model:\n",
    "\n",
    "$$\\hat{y}=wx$$\n",
    "\n",
    "$w$ is the parameter or weight of the model that should be learned."
   ]
  },
  {
   "cell_type": "markdown",
   "metadata": {},
   "source": [
    "### Loss or Objective Function\n",
    "\n",
    "We Define the Loss on a prediction $x_i$ as:\n",
    "\n",
    "$$J(w)=(\\hat{y}_i - y_i)^2=(wx_i - y_i)^2$$\n",
    "\n",
    "We have:\n",
    "\n",
    "$${\\partial J(w) \\over \\partial w}(w)=2x_i(wx_i-y_i)$$"
   ]
  },
  {
   "cell_type": "markdown",
   "metadata": {},
   "source": [
    "### Optimizer\n",
    "We Define the Gradient Descent Algorithm as:\n",
    "\n",
    "\\begin{cases}\n",
    "w_{0}=3 & \\text{Initial Random Weight} \\\\\n",
    "w_{n} = w_{n-1} - \\alpha {\\partial J(w) \\over \\partial w}(w_{n-1}) & \\alpha \\text{ is the Learning Rate}\n",
    "\\end{cases}"
   ]
  },
  {
   "cell_type": "markdown",
   "metadata": {},
   "source": [
    "### Training"
   ]
  },
  {
   "cell_type": "markdown",
   "metadata": {},
   "source": [
    "We will train our model on two epochs.\n",
    "\n",
    "Let's Pick $\\alpha=0.1$ and feed points one-by-one to the optimizer:"
   ]
  },
  {
   "cell_type": "markdown",
   "metadata": {},
   "source": [
    "#### Epoch 1:\n",
    "\n",
    "$p_1=(0.5,0.4) \\to w_1=3-1.1/10=2.89$ \n",
    "\n",
    "$p_2=(1.1,1.5) \\to w_2=2.52$ \n",
    "\n",
    "$p_3=(2.5,2.1) \\to w_3=0.42$ \n",
    "\n",
    "$p_4=(3.1,3.5) \\to w_4=1.78$\n",
    "\n",
    "#### Epoch 2:\n",
    "\n",
    "$p_1=(0.5,0.4) \\to w_5=1.73$ \n",
    "\n",
    "$p_2=(1.1,1.5) \\to w_6=1.64$\n",
    "\n",
    "$p_3=(2.5,2.1) \\to w_7=0.64$ \n",
    "\n",
    "$p_4=(3.1,3.5) \\to w_8=1.58$"
   ]
  },
  {
   "cell_type": "markdown",
   "metadata": {},
   "source": [
    "Let's plot the changes in $w_i$:"
   ]
  },
  {
   "cell_type": "code",
   "execution_count": 43,
   "metadata": {},
   "outputs": [
    {
     "data": {
      "text/plain": [
       "[<matplotlib.lines.Line2D at 0x11b3eaf98>]"
      ]
     },
     "execution_count": 43,
     "metadata": {},
     "output_type": "execute_result"
    },
    {
     "data": {
      "image/png": "[encoded data removed]",
      "text/plain": [
       "<Figure size 1224x720 with 9 Axes>"
      ]
     },
     "metadata": {
      "needs_background": "light"
     },
     "output_type": "display_data"
    }
   ],
   "source": [
    "# Let's plot the points.\n",
    "rcParams['figure.figsize'] = 17, 10\n",
    "\n",
    "fig, ax = plt.subplots(nrows=3, ncols=3)\n",
    "\n",
    "# we plot the points + the weight as a title.\n",
    "i = 0\n",
    "for row in ax:\n",
    "    for col in row:\n",
    "        col.scatter(x, y, color='blue')\n",
    "        col.set_title(\"w_\" + str(i))\n",
    "        i += 1\n",
    "\n",
    "ax[0][0].plot([0, 3.5], [0, 3.5*3], '--', color='black')\n",
    "\n",
    "ax[0][1].scatter(x[0], y[0], color='red', s=52)\n",
    "ax[0][1].plot([0, 3.5], [0, 3.5*2.89], '--', color='red')\n",
    "\n",
    "ax[0][2].scatter(x[1], y[1], color='red', s=52)\n",
    "ax[0][2].plot([0, 3.5], [0, 3.5*2.52], '--', color='red')\n",
    "\n",
    "ax[1][0].scatter(x[2], y[2], color='red', s=52)\n",
    "ax[1][0].plot([0, 3.5], [0, 3.5*0.42], '--', color='red')\n",
    "\n",
    "ax[1][1].scatter(x[3], y[3], color='red', s=52)\n",
    "ax[1][1].plot([0, 3.5], [0, 3.5*1.78], '--', color='red')\n",
    "\n",
    "ax[1][2].scatter(x[0], y[0], color='green', s=52)\n",
    "ax[1][2].plot([0, 3.5], [0, 3.5*1.73], '--', color='green')\n",
    "\n",
    "ax[2][0].scatter(x[1], y[1], color='green', s=52)\n",
    "ax[2][0].plot([0, 3.5], [0, 3.5*1.64], '--', color='green')\n",
    "\n",
    "ax[2][1].scatter(x[2], y[2], color='green', s=52)\n",
    "ax[2][1].plot([0, 3.5], [0, 3.5*0.64], '--', color='green')\n",
    "\n",
    "ax[2][2].scatter(x[3], y[3], color='green', s=52)\n",
    "ax[2][2].plot([0, 3.5], [0, 3.5*1.58], '--', color='green')"
   ]
  },
  {
   "cell_type": "markdown",
   "metadata": {},
   "source": [
    "Every point tries to change the weight to minimize its local loss, the way $w$ changes will be different if we consider the global loss at every step, we can calculate the gradient of the total loss or a loss based on a random selection of subpoints (Batches)."
   ]
  },
  {
   "cell_type": "markdown",
   "metadata": {},
   "source": [
    "For example, Let's visualize the global loss function RMSE (Root mean squared error) of corresponding to this example:\n",
    "\n",
    "$$J(w)={1 \\over N}\\sqrt{\\sum^{3}_{i=1}(wx_i-y_i)^2}$$\n",
    "\n",
    "For our 4 sample size, The Loss function is:\n",
    "\n",
    "<img src=\"imgs/GlobalLoss.png\" />"
   ]
  },
  {
   "cell_type": "markdown",
   "metadata": {},
   "source": [
    "As we can see, $w$ that minimizes RMSE Loss is $w_{\\infty}=1$"
   ]
  }
 ],
 "metadata": {
  "kernelspec": {
   "display_name": "Python 3",
   "language": "python",
   "name": "python3"
  },
  "language_info": {
   "codemirror_mode": {
    "name": "ipython",
    "version": 3
   },
   "file_extension": ".py",
   "mimetype": "text/x-python",
   "name": "python",
   "nbconvert_exporter": "python",
   "pygments_lexer": "ipython3",
   "version": "3.7.0"
  }
 },
 "nbformat": 4,
 "nbformat_minor": 2
}
