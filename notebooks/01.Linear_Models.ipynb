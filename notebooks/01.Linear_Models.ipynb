{
 "cells": [
  {
   "cell_type": "markdown",
   "metadata": {},
   "source": [
    "Imports:"
   ]
  },
  {
   "cell_type": "code",
   "execution_count": 3,
   "metadata": {},
   "outputs": [],
   "source": [
    "import numpy as np\n",
    "import matplotlib.pyplot as plt\n",
    "from pylab import rcParams"
   ]
  },
  {
   "cell_type": "markdown",
   "metadata": {},
   "source": [
    "# Linear Models"
   ]
  },
  {
   "cell_type": "markdown",
   "metadata": {},
   "source": [
    "An example of a supervised learning problem:\n",
    "\n",
    "<img src=\"imgs/predict_grade.png\" />"
   ]
  },
  {
   "cell_type": "markdown",
   "metadata": {},
   "source": [
    "## Model Design\n",
    "What would be the best model for the data ? Linear ?\n",
    "\n",
    "$$\\hat y = w*x + b$$\n",
    "\n",
    "Where:\n",
    "* $w$: weight.\n",
    "* $b$: bias.\n",
    "\n",
    "There are a lot of examples of linear model problems, like:\n",
    "* Predict house prices from the area.\n",
    "* Predict people weights from the heights.\n",
    "* ..\n",
    "\n",
    "### Linear Regression\n",
    "In our example we'll consider our model to be in the simpler form $\\hat y=w*x$.\n",
    "\n",
    "* The Machine starts with a random guess (random $w$), and from the random $w$ we'll fit the line by incrementaly changing the value of our $w$.\n",
    "* we need to measure which line is better to get an idea of our performance and the way to increment the weight.\n",
    "* A simple idea to measure performance is by measuring the distance between the predictions and the targets.\n",
    " * this represents the loss function.\n",
    "\n",
    "### Training Loss\n",
    "We chose the mean square error:\n",
    "$$loss = {1 \\over m} \\sum_i(\\hat{y}^{(i)} - y^{(i)})^2 = {1 \\over m} \\sum_i(w*x^{(i)} - y^{(i)})^2$$\n",
    "\n",
    "<img src=\"imgs/losses.png\" />\n",
    "\n",
    "* m is the number of training points.\n",
    "* we re-calculate the loss function each time we change $w$.\n",
    "* we need to find $w_s$ that minimizes the loss function."
   ]
  },
  {
   "cell_type": "markdown",
   "metadata": {},
   "source": [
    "### Loss Graph\n",
    "We want to find the minima of the loss graph, with respect to our weight $w$:\n",
    "\n",
    "<img src=\"imgs/lossGraph.png\" />"
   ]
  },
  {
   "cell_type": "markdown",
   "metadata": {},
   "source": [
    "## Model & Loss"
   ]
  },
  {
   "cell_type": "markdown",
   "metadata": {},
   "source": [
    "First we program the Model of our choice:\n",
    "$$\\hat{y}=x*w$$\n",
    "\n",
    "$w$ is random at first."
   ]
  },
  {
   "cell_type": "code",
   "execution_count": 4,
   "metadata": {},
   "outputs": [
    {
     "data": {
      "text/plain": [
       "0.9746314245885521"
      ]
     },
     "execution_count": 4,
     "metadata": {},
     "output_type": "execute_result"
    }
   ],
   "source": [
    "w = np.random.rand(1)[0];w"
   ]
  },
  {
   "cell_type": "code",
   "execution_count": 5,
   "metadata": {},
   "outputs": [],
   "source": [
    "def forward(x):\n",
    "    return np.multiply(w,x)"
   ]
  },
  {
   "cell_type": "markdown",
   "metadata": {},
   "source": [
    "Now we program the Loss:"
   ]
  },
  {
   "cell_type": "code",
   "execution_count": 6,
   "metadata": {},
   "outputs": [],
   "source": [
    "x = np.array([1,4,2])\n",
    "y = np.array([1,2,3])"
   ]
  },
  {
   "cell_type": "code",
   "execution_count": 7,
   "metadata": {},
   "outputs": [],
   "source": [
    "# my solution.\n",
    "def loss(x, y):\n",
    "    '''\n",
    "    Calculates MSE.\n",
    "    Actual Solution: (y_hat - y)*(y_hat - y).\n",
    "    .. Doesn't support vectors.\n",
    "    '''\n",
    "    y_hat = forward(x)\n",
    "    return sum((np.subtract(y_hat,y))**2)/len(y)"
   ]
  },
  {
   "cell_type": "code",
   "execution_count": 8,
   "metadata": {},
   "outputs": [
    {
     "data": {
      "text/plain": [
       "1.5696973173497195"
      ]
     },
     "execution_count": 8,
     "metadata": {},
     "output_type": "execute_result"
    }
   ],
   "source": [
    "loss(x, y)"
   ]
  },
  {
   "cell_type": "markdown",
   "metadata": {},
   "source": [
    "Let's calculate the loss for different weights:"
   ]
  },
  {
   "cell_type": "code",
   "execution_count": 9,
   "metadata": {},
   "outputs": [
    {
     "data": {
      "text/plain": [
       "(200,)"
      ]
     },
     "execution_count": 9,
     "metadata": {},
     "output_type": "execute_result"
    }
   ],
   "source": [
    "# weights.\n",
    "w_s = np.arange(0, 20, 0.1); w_s.shape"
   ]
  },
  {
   "cell_type": "code",
   "execution_count": 10,
   "metadata": {},
   "outputs": [],
   "source": [
    "# training data.\n",
    "X = [1, 2, 3, 4, 5]\n",
    "y = [8, 16, 24, 32, 40]"
   ]
  },
  {
   "cell_type": "code",
   "execution_count": 11,
   "metadata": {},
   "outputs": [],
   "source": [
    "losses = []\n",
    "for w in w_s:\n",
    "    losses.append(loss(X, y))"
   ]
  },
  {
   "cell_type": "markdown",
   "metadata": {},
   "source": [
    "Now after we got different losses values for different weight values, let's draw the loss function and figure out the minimum:"
   ]
  },
  {
   "cell_type": "code",
   "execution_count": 12,
   "metadata": {},
   "outputs": [
    {
     "data": {
      "image/png": "[encoded data removed]",
      "text/plain": [
       "<Figure size 432x288 with 1 Axes>"
      ]
     },
     "metadata": {
      "needs_background": "light"
     },
     "output_type": "display_data"
    }
   ],
   "source": [
    "plt.clf()\n",
    "\n",
    "plt.plot(w_s, losses)\n",
    "\n",
    "plt.xlabel('Weights')\n",
    "plt.ylabel('Loss')\n",
    "plt.title('Loss Function')\n",
    "plt.show()"
   ]
  }
 ],
 "metadata": {
  "kernelspec": {
   "display_name": "Python 3",
   "language": "python",
   "name": "python3"
  },
  "language_info": {
   "codemirror_mode": {
    "name": "ipython",
    "version": 3
   },
   "file_extension": ".py",
   "mimetype": "text/x-python",
   "name": "python",
   "nbconvert_exporter": "python",
   "pygments_lexer": "ipython3",
   "version": "3.7.0"
  }
 },
 "nbformat": 4,
 "nbformat_minor": 2
}
